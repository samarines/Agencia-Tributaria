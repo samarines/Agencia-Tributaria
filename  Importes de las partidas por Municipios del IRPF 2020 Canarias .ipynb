{
 "cells": [
  {
   "cell_type": "code",
   "execution_count": 128,
   "metadata": {},
   "outputs": [],
   "source": [
    "import pandas as pd\n",
    "\n",
    "tabla = pd.read_html('https://sede.agenciatributaria.gob.es/AEAT/Contenidos_Comunes/La_Agencia_Tributaria/Estadisticas/Publicaciones/sites/irpfmunicipios_ccaa/2020/jrubik6c2919f8565ed748cafc179390732e425389d0f2.html')"
   ]
  },
  {
   "cell_type": "code",
   "execution_count": 129,
   "metadata": {},
   "outputs": [
    {
     "name": "stdout",
     "output_type": "stream",
     "text": [
      "<class 'pandas.core.frame.DataFrame'>\n",
      "RangeIndex: 55 entries, 0 to 54\n",
      "Columns: 187 entries, Distribución Geográfica to Número total declaraciones\n",
      "dtypes: float64(1), object(186)\n",
      "memory usage: 80.5+ KB\n"
     ]
    }
   ],
   "source": [
    "df = tabla[0]\n",
    "df.info()"
   ]
  },
  {
   "cell_type": "code",
   "execution_count": 130,
   "metadata": {},
   "outputs": [
    {
     "data": {
      "text/html": [
       "<div>\n",
       "<style scoped>\n",
       "    .dataframe tbody tr th:only-of-type {\n",
       "        vertical-align: middle;\n",
       "    }\n",
       "\n",
       "    .dataframe tbody tr th {\n",
       "        vertical-align: top;\n",
       "    }\n",
       "\n",
       "    .dataframe thead th {\n",
       "        text-align: right;\n",
       "    }\n",
       "</style>\n",
       "<table border=\"1\" class=\"dataframe\">\n",
       "  <thead>\n",
       "    <tr style=\"text-align: right;\">\n",
       "      <th></th>\n",
       "      <th>Distribución Geográfica</th>\n",
       "      <th>Distribución Geográfica.1</th>\n",
       "      <th>Importe Partida 3</th>\n",
       "      <th>Importe Partida 7</th>\n",
       "      <th>Importe Partida 8</th>\n",
       "      <th>Importe Partida 11</th>\n",
       "      <th>Importe Partida 12</th>\n",
       "      <th>Importe Partida 13</th>\n",
       "      <th>Importe Partida 14</th>\n",
       "      <th>Importe Partida 15</th>\n",
       "      <th>...</th>\n",
       "      <th>Importe Partida 1559</th>\n",
       "      <th>Importe Partida 1560</th>\n",
       "      <th>Importe Partida 1601</th>\n",
       "      <th>Importe Partida 1602</th>\n",
       "      <th>Importe Partida 1604</th>\n",
       "      <th>Importe Partida 1605</th>\n",
       "      <th>Suma deducciones (parte autonómica</th>\n",
       "      <th>Suma deducciones (parte estatal)</th>\n",
       "      <th>Suma resto de deducciones</th>\n",
       "      <th>Número total declaraciones</th>\n",
       "    </tr>\n",
       "  </thead>\n",
       "  <tbody>\n",
       "    <tr>\n",
       "      <th>0</th>\n",
       "      <td>Provincias</td>\n",
       "      <td>Santa Cruz de Tenerife</td>\n",
       "      <td>8.605.173.423</td>\n",
       "      <td>33.611.278</td>\n",
       "      <td>13.544.331</td>\n",
       "      <td>31.194.477</td>\n",
       "      <td>8.621.157.771</td>\n",
       "      <td>429.453.172</td>\n",
       "      <td>6.481.552</td>\n",
       "      <td>4.053.067</td>\n",
       "      <td>...</td>\n",
       "      <td>2.030.491</td>\n",
       "      <td>37.856.147</td>\n",
       "      <td>559.846</td>\n",
       "      <td>375.072</td>\n",
       "      <td>10.635.547</td>\n",
       "      <td>38.249.392</td>\n",
       "      <td>63.142.807</td>\n",
       "      <td>30.093.556</td>\n",
       "      <td>27.858.808</td>\n",
       "      <td>453.204</td>\n",
       "    </tr>\n",
       "    <tr>\n",
       "      <th>1</th>\n",
       "      <td>Municipios</td>\n",
       "      <td>ADEJE</td>\n",
       "      <td>289.266.717</td>\n",
       "      <td>1.800.795</td>\n",
       "      <td>268.743</td>\n",
       "      <td>555.974</td>\n",
       "      <td>290.781.476</td>\n",
       "      <td>17.079.781</td>\n",
       "      <td>131.196</td>\n",
       "      <td>61.571</td>\n",
       "      <td>...</td>\n",
       "      <td>9.363</td>\n",
       "      <td>94.260</td>\n",
       "      <td>17.864</td>\n",
       "      <td>7.680</td>\n",
       "      <td>197.721</td>\n",
       "      <td>673.053</td>\n",
       "      <td>2.424.985</td>\n",
       "      <td>1.133.701</td>\n",
       "      <td>1.053.412</td>\n",
       "      <td>19.056</td>\n",
       "    </tr>\n",
       "    <tr>\n",
       "      <th>2</th>\n",
       "      <td>Municipios</td>\n",
       "      <td>AGULO</td>\n",
       "      <td>5.108.251</td>\n",
       "      <td>5.096</td>\n",
       "      <td>S.E.</td>\n",
       "      <td>S.E.</td>\n",
       "      <td>5.121.273</td>\n",
       "      <td>228.428</td>\n",
       "      <td>4.526</td>\n",
       "      <td>S.E.</td>\n",
       "      <td>...</td>\n",
       "      <td>S.E.</td>\n",
       "      <td>30.052</td>\n",
       "      <td>0</td>\n",
       "      <td>S.E.</td>\n",
       "      <td>0</td>\n",
       "      <td>0</td>\n",
       "      <td>31.044</td>\n",
       "      <td>10.260</td>\n",
       "      <td>7.468</td>\n",
       "      <td>343.000</td>\n",
       "    </tr>\n",
       "    <tr>\n",
       "      <th>3</th>\n",
       "      <td>Municipios</td>\n",
       "      <td>ALAJERÓ</td>\n",
       "      <td>11.825.437</td>\n",
       "      <td>21.836</td>\n",
       "      <td>6.807</td>\n",
       "      <td>S.E.</td>\n",
       "      <td>11.832.931</td>\n",
       "      <td>654.571</td>\n",
       "      <td>11.796</td>\n",
       "      <td>3.045</td>\n",
       "      <td>...</td>\n",
       "      <td>0</td>\n",
       "      <td>5.572</td>\n",
       "      <td>0</td>\n",
       "      <td>0</td>\n",
       "      <td>S.E.</td>\n",
       "      <td>S.E.</td>\n",
       "      <td>85.883</td>\n",
       "      <td>25.901</td>\n",
       "      <td>9.966</td>\n",
       "      <td>711.000</td>\n",
       "    </tr>\n",
       "    <tr>\n",
       "      <th>4</th>\n",
       "      <td>Municipios</td>\n",
       "      <td>ARAFO</td>\n",
       "      <td>46.666.797</td>\n",
       "      <td>170.412</td>\n",
       "      <td>97.653</td>\n",
       "      <td>30.120</td>\n",
       "      <td>46.904.742</td>\n",
       "      <td>2.437.746</td>\n",
       "      <td>43.276</td>\n",
       "      <td>17.859</td>\n",
       "      <td>...</td>\n",
       "      <td>5.956</td>\n",
       "      <td>40.754</td>\n",
       "      <td>S.E.</td>\n",
       "      <td>S.E.</td>\n",
       "      <td>S.E.</td>\n",
       "      <td>104.087</td>\n",
       "      <td>314.653</td>\n",
       "      <td>157.340</td>\n",
       "      <td>131.767</td>\n",
       "      <td>2.353</td>\n",
       "    </tr>\n",
       "  </tbody>\n",
       "</table>\n",
       "<p>5 rows × 187 columns</p>\n",
       "</div>"
      ],
      "text/plain": [
       "  Distribución Geográfica Distribución Geográfica.1 Importe Partida 3  \\\n",
       "0              Provincias    Santa Cruz de Tenerife     8.605.173.423   \n",
       "1              Municipios                     ADEJE       289.266.717   \n",
       "2              Municipios                     AGULO         5.108.251   \n",
       "3              Municipios                   ALAJERÓ        11.825.437   \n",
       "4              Municipios                     ARAFO        46.666.797   \n",
       "\n",
       "  Importe Partida 7 Importe Partida 8 Importe Partida 11 Importe Partida 12  \\\n",
       "0        33.611.278        13.544.331         31.194.477      8.621.157.771   \n",
       "1         1.800.795           268.743            555.974        290.781.476   \n",
       "2             5.096              S.E.               S.E.          5.121.273   \n",
       "3            21.836             6.807               S.E.         11.832.931   \n",
       "4           170.412            97.653             30.120         46.904.742   \n",
       "\n",
       "  Importe Partida 13 Importe Partida 14 Importe Partida 15  ...  \\\n",
       "0        429.453.172          6.481.552          4.053.067  ...   \n",
       "1         17.079.781            131.196             61.571  ...   \n",
       "2            228.428              4.526               S.E.  ...   \n",
       "3            654.571             11.796              3.045  ...   \n",
       "4          2.437.746             43.276             17.859  ...   \n",
       "\n",
       "  Importe Partida 1559 Importe Partida 1560 Importe Partida 1601  \\\n",
       "0            2.030.491           37.856.147              559.846   \n",
       "1                9.363               94.260               17.864   \n",
       "2                 S.E.               30.052                    0   \n",
       "3                    0                5.572                    0   \n",
       "4                5.956               40.754                 S.E.   \n",
       "\n",
       "  Importe Partida 1602 Importe Partida 1604 Importe Partida 1605  \\\n",
       "0              375.072           10.635.547           38.249.392   \n",
       "1                7.680              197.721              673.053   \n",
       "2                 S.E.                    0                    0   \n",
       "3                    0                 S.E.                 S.E.   \n",
       "4                 S.E.                 S.E.              104.087   \n",
       "\n",
       "  Suma deducciones (parte autonómica Suma deducciones (parte estatal)  \\\n",
       "0                         63.142.807                       30.093.556   \n",
       "1                          2.424.985                        1.133.701   \n",
       "2                             31.044                           10.260   \n",
       "3                             85.883                           25.901   \n",
       "4                            314.653                          157.340   \n",
       "\n",
       "  Suma resto de deducciones Número total declaraciones  \n",
       "0                27.858.808                    453.204  \n",
       "1                 1.053.412                     19.056  \n",
       "2                     7.468                    343.000  \n",
       "3                     9.966                    711.000  \n",
       "4                   131.767                      2.353  \n",
       "\n",
       "[5 rows x 187 columns]"
      ]
     },
     "execution_count": 130,
     "metadata": {},
     "output_type": "execute_result"
    }
   ],
   "source": [
    "df.head(5)"
   ]
  },
  {
   "cell_type": "code",
   "execution_count": 131,
   "metadata": {},
   "outputs": [],
   "source": [
    "# Borrar una columna innecesaria\n",
    "df.drop(['Distribución Geográfica'], axis=1, inplace= True)"
   ]
  },
  {
   "cell_type": "code",
   "execution_count": 132,
   "metadata": {},
   "outputs": [
    {
     "data": {
      "text/html": [
       "<div>\n",
       "<style scoped>\n",
       "    .dataframe tbody tr th:only-of-type {\n",
       "        vertical-align: middle;\n",
       "    }\n",
       "\n",
       "    .dataframe tbody tr th {\n",
       "        vertical-align: top;\n",
       "    }\n",
       "\n",
       "    .dataframe thead th {\n",
       "        text-align: right;\n",
       "    }\n",
       "</style>\n",
       "<table border=\"1\" class=\"dataframe\">\n",
       "  <thead>\n",
       "    <tr style=\"text-align: right;\">\n",
       "      <th></th>\n",
       "      <th>Distribución Geográfica.1</th>\n",
       "      <th>Importe Partida 3</th>\n",
       "    </tr>\n",
       "  </thead>\n",
       "  <tbody>\n",
       "    <tr>\n",
       "      <th>0</th>\n",
       "      <td>Santa Cruz de Tenerife</td>\n",
       "      <td>8.605.173.423</td>\n",
       "    </tr>\n",
       "    <tr>\n",
       "      <th>1</th>\n",
       "      <td>ADEJE</td>\n",
       "      <td>289.266.717</td>\n",
       "    </tr>\n",
       "    <tr>\n",
       "      <th>2</th>\n",
       "      <td>AGULO</td>\n",
       "      <td>5.108.251</td>\n",
       "    </tr>\n",
       "    <tr>\n",
       "      <th>3</th>\n",
       "      <td>ALAJERÓ</td>\n",
       "      <td>11.825.437</td>\n",
       "    </tr>\n",
       "    <tr>\n",
       "      <th>4</th>\n",
       "      <td>ARAFO</td>\n",
       "      <td>46.666.797</td>\n",
       "    </tr>\n",
       "  </tbody>\n",
       "</table>\n",
       "</div>"
      ],
      "text/plain": [
       "  Distribución Geográfica.1 Importe Partida 3\n",
       "0    Santa Cruz de Tenerife     8.605.173.423\n",
       "1                     ADEJE       289.266.717\n",
       "2                     AGULO         5.108.251\n",
       "3                   ALAJERÓ        11.825.437\n",
       "4                     ARAFO        46.666.797"
      ]
     },
     "execution_count": 132,
     "metadata": {},
     "output_type": "execute_result"
    }
   ],
   "source": [
    "# Sacar dos columnas para el gráfico\n",
    "df_1 = df[['Distribución Geográfica.1', 'Importe Partida 3']].copy()\n",
    "df_1.head(5)"
   ]
  },
  {
   "cell_type": "code",
   "execution_count": 133,
   "metadata": {},
   "outputs": [
    {
     "data": {
      "text/plain": [
       "Distribución Geográfica.1    object\n",
       "Importe Partida 3            object\n",
       "dtype: object"
      ]
     },
     "execution_count": 133,
     "metadata": {},
     "output_type": "execute_result"
    }
   ],
   "source": [
    "# comprobar los tipos\n",
    "df_1.dtypes"
   ]
  },
  {
   "cell_type": "code",
   "execution_count": 140,
   "metadata": {},
   "outputs": [
    {
     "data": {
      "text/html": [
       "<div>\n",
       "<style scoped>\n",
       "    .dataframe tbody tr th:only-of-type {\n",
       "        vertical-align: middle;\n",
       "    }\n",
       "\n",
       "    .dataframe tbody tr th {\n",
       "        vertical-align: top;\n",
       "    }\n",
       "\n",
       "    .dataframe thead th {\n",
       "        text-align: right;\n",
       "    }\n",
       "</style>\n",
       "<table border=\"1\" class=\"dataframe\">\n",
       "  <thead>\n",
       "    <tr style=\"text-align: right;\">\n",
       "      <th></th>\n",
       "      <th>Distribución Geográfica.1</th>\n",
       "      <th>Importe Partida 3</th>\n",
       "    </tr>\n",
       "  </thead>\n",
       "  <tbody>\n",
       "    <tr>\n",
       "      <th>0</th>\n",
       "      <td>Santa Cruz de Tenerife</td>\n",
       "      <td>8605173423</td>\n",
       "    </tr>\n",
       "    <tr>\n",
       "      <th>1</th>\n",
       "      <td>ADEJE</td>\n",
       "      <td>289266717</td>\n",
       "    </tr>\n",
       "    <tr>\n",
       "      <th>2</th>\n",
       "      <td>AGULO</td>\n",
       "      <td>5108251</td>\n",
       "    </tr>\n",
       "    <tr>\n",
       "      <th>3</th>\n",
       "      <td>ALAJERÓ</td>\n",
       "      <td>11825437</td>\n",
       "    </tr>\n",
       "    <tr>\n",
       "      <th>4</th>\n",
       "      <td>ARAFO</td>\n",
       "      <td>46666797</td>\n",
       "    </tr>\n",
       "  </tbody>\n",
       "</table>\n",
       "</div>"
      ],
      "text/plain": [
       "  Distribución Geográfica.1  Importe Partida 3\n",
       "0    Santa Cruz de Tenerife         8605173423\n",
       "1                     ADEJE          289266717\n",
       "2                     AGULO            5108251\n",
       "3                   ALAJERÓ           11825437\n",
       "4                     ARAFO           46666797"
      ]
     },
     "execution_count": 140,
     "metadata": {},
     "output_type": "execute_result"
    }
   ],
   "source": [
    "# Limpiar los puntos del formato de miles de euros\n",
    "df_1 = df_1.replace('\\.','', regex=True)\n",
    "df_1.head(5)"
   ]
  },
  {
   "cell_type": "code",
   "execution_count": 154,
   "metadata": {},
   "outputs": [
    {
     "data": {
      "text/html": [
       "<div>\n",
       "<style scoped>\n",
       "    .dataframe tbody tr th:only-of-type {\n",
       "        vertical-align: middle;\n",
       "    }\n",
       "\n",
       "    .dataframe tbody tr th {\n",
       "        vertical-align: top;\n",
       "    }\n",
       "\n",
       "    .dataframe thead th {\n",
       "        text-align: right;\n",
       "    }\n",
       "</style>\n",
       "<table border=\"1\" class=\"dataframe\">\n",
       "  <thead>\n",
       "    <tr style=\"text-align: right;\">\n",
       "      <th></th>\n",
       "      <th>Distribución Geográfica.1</th>\n",
       "      <th>Importe Partida 3</th>\n",
       "    </tr>\n",
       "  </thead>\n",
       "  <tbody>\n",
       "    <tr>\n",
       "      <th>1</th>\n",
       "      <td>ADEJE</td>\n",
       "      <td>289266717</td>\n",
       "    </tr>\n",
       "    <tr>\n",
       "      <th>2</th>\n",
       "      <td>AGULO</td>\n",
       "      <td>5108251</td>\n",
       "    </tr>\n",
       "    <tr>\n",
       "      <th>3</th>\n",
       "      <td>ALAJERÓ</td>\n",
       "      <td>11825437</td>\n",
       "    </tr>\n",
       "    <tr>\n",
       "      <th>4</th>\n",
       "      <td>ARAFO</td>\n",
       "      <td>46666797</td>\n",
       "    </tr>\n",
       "    <tr>\n",
       "      <th>5</th>\n",
       "      <td>ARICO</td>\n",
       "      <td>58471632</td>\n",
       "    </tr>\n",
       "  </tbody>\n",
       "</table>\n",
       "</div>"
      ],
      "text/plain": [
       "  Distribución Geográfica.1  Importe Partida 3\n",
       "1                     ADEJE          289266717\n",
       "2                     AGULO            5108251\n",
       "3                   ALAJERÓ           11825437\n",
       "4                     ARAFO           46666797\n",
       "5                     ARICO           58471632"
      ]
     },
     "execution_count": 154,
     "metadata": {},
     "output_type": "execute_result"
    }
   ],
   "source": [
    "# Convertir a números para poder hacer la gráfica\n",
    "df_1 = df_1.astype({\"Importe Partida 3\": int})\n",
    "df_1.head(5)"
   ]
  },
  {
   "cell_type": "code",
   "execution_count": 141,
   "metadata": {},
   "outputs": [
    {
     "data": {
      "text/plain": [
       "Distribución Geográfica.1    object\n",
       "Importe Partida 3             int64\n",
       "dtype: object"
      ]
     },
     "execution_count": 141,
     "metadata": {},
     "output_type": "execute_result"
    }
   ],
   "source": [
    "# Comprobar si son correctos los tipos\n",
    "df_1.dtypes"
   ]
  },
  {
   "cell_type": "code",
   "execution_count": 148,
   "metadata": {},
   "outputs": [],
   "source": [
    "# Quitar el primer registro, que es el total de la provincia y deforma el gráfico\n",
    "df_1.drop(0, inplace=True)"
   ]
  },
  {
   "cell_type": "code",
   "execution_count": 153,
   "metadata": {},
   "outputs": [
    {
     "data": {
      "text/plain": [
       "<matplotlib.axes._subplots.AxesSubplot at 0x7f01544eba60>"
      ]
     },
     "execution_count": 153,
     "metadata": {},
     "output_type": "execute_result"
    },
    {
     "data": {
      "image/png": "[encoded data removed]",
      "text/plain": [
       "<Figure size 1728x432 with 1 Axes>"
      ]
     },
     "metadata": {
      "needs_background": "light"
     },
     "output_type": "display_data"
    }
   ],
   "source": [
    "# Un gráfico de barras.\n",
    "df_1.plot.bar(x='Distribución Geográfica.1', y= 'Importe Partida 3',figsize=(24,6))"
   ]
  },
  {
   "cell_type": "code",
   "execution_count": null,
   "metadata": {},
   "outputs": [],
   "source": []
  }
 ],
 "metadata": {
  "kernelspec": {
   "display_name": "Python 3.8.10 64-bit",
   "language": "python",
   "name": "python3"
  },
  "language_info": {
   "codemirror_mode": {
    "name": "ipython",
    "version": 3
   },
   "file_extension": ".py",
   "mimetype": "text/x-python",
   "name": "python",
   "nbconvert_exporter": "python",
   "pygments_lexer": "ipython3",
   "version": "3.8.10"
  },
  "orig_nbformat": 4,
  "vscode": {
   "interpreter": {
    "hash": "916dbcbb3f70747c44a77c7bcd40155683ae19c65e1c03b4aa3499c5328201f1"
   }
  }
 },
 "nbformat": 4,
 "nbformat_minor": 2
}
